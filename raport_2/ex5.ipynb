{
 "cells": [
  {
   "attachments": {},
   "cell_type": "markdown",
   "metadata": {},
   "source": [
    "# ex 5"
   ]
  },
  {
   "cell_type": "code",
   "execution_count": 2,
   "metadata": {},
   "outputs": [],
   "source": [
    "import numpy as np\n",
    "import matplotlib.pyplot as plt\n",
    "import seaborn as sns\n",
    "import pandas as pd\n",
    "\n",
    "sns.set()\n",
    "pi = np.pi\n"
   ]
  },
  {
   "cell_type": "code",
   "execution_count": 1,
   "metadata": {},
   "outputs": [],
   "source": [
    "def stable_random_variables_a(alpha):\n",
    "    if alpha == 1:\n",
    "        Omega = np.random.uniform(-pi/2, pi/2)\n",
    "        return np.tan(Omega)\n",
    "    else:\n",
    "        Omega = np.random.uniform(-pi/2, pi/2)\n",
    "        W = np.random.exponential(1)\n",
    "        return np.sin(alpha*Omega)/np.cos(Omega)**(1/alpha)*(np.cos((alpha-1)*Omega)/W)**((1-alpha)/alpha)\n",
    "\n",
    "\n",
    "def stable_random_variables_b(alpha, beta):\n",
    "    Omega = np.random.uniform(-pi/2, pi/2)\n",
    "    W = np.random.exponential(1)\n",
    "    Delta_0 = np.arctan(beta*np.tan(pi*alpha/2))/alpha\n",
    "\n",
    "    if alpha == 1:\n",
    "        return 2/pi*((pi/2+beta*Omega)*np.tan(Omega)-beta*np.log(pi/2*W*np.cos(Omega)/(pi/2+beta*Omega)))\n",
    "    else:\n",
    "        a = np.sin(alpha*(Delta_0+Omega)) / \\\n",
    "            (np.cos(alpha*Delta_0)*np.cos(Omega))**(1/alpha)\n",
    "        b = (np.cos(alpha*Delta_0+(alpha-1)*Omega)/W)**((1-alpha)/alpha)\n",
    "        return a*b\n",
    "\n",
    "\n",
    "def stable_random_variables_0(alpha, beta, gamma, delta):\n",
    "    Z = stable_random_variables_a(alpha, beta)\n",
    "    if alpha == 1:\n",
    "        return gamma*Z+delta\n",
    "    else:\n",
    "        return gamma*(Z - beta*np.tan(pi*alpha/2)) + delta\n",
    "\n",
    "\n",
    "def stable_random_variables_1(alpha, beta, gamma, delta):\n",
    "    Z = stable_random_variables_b(alpha, beta)\n",
    "    if alpha == 1:\n",
    "        return gamma*Z + (delta + beta*2/pi*gamma*np.log(gamma))\n",
    "    else:\n",
    "        return gamma*Z+delta\n",
    "\n",
    "\n",
    "def stable_random_variables(alpha, beta, gamma=1, delta=0, stable_type=1):\n",
    "    if stable_type == 1:\n",
    "        return stable_random_variables_1(alpha, beta, gamma, delta)\n",
    "    elif stable_type == 0:\n",
    "        return stable_random_variables_0(alpha, beta, gamma, delta)\n",
    "    else:\n",
    "        raise ValueError(\"Select bad stable_type!!!\")\n",
    "\n",
    "\n",
    "def multivariate_stable_distributions(alpha, array):\n",
    "    n = array.shape[0]\n",
    "    Z = [stable_random_variables(alpha=alpha, beta=1) for _ in range(n)]\n",
    "    y = np.random.uniform(0, 1)\n",
    "    if alpha == 1:\n",
    "        return np.sum(array[:, 1:].T*array[:, 0]**(1/alpha) * Z, axis=1)\n",
    "    else:\n",
    "        return np.sum(array[:, 1:].T*array[:, 0]**(1/alpha)*(Z + 2/pi*np.log(array[:, 0])), axis=1)\n"
   ]
  },
  {
   "cell_type": "code",
   "execution_count": 43,
   "metadata": {},
   "outputs": [],
   "source": [
    "def codiffence(X, Y):\n",
    "    # XminusY = np.array([X - Y_i for Y_i in Y])\n",
    "    XminusY = X - Y\n",
    "    EexpX = np.mean(np.exp(1j*X))\n",
    "    EexpY = np.mean(np.exp(-1j*Y))\n",
    "\n",
    "    EexpXminusY = np.mean(np.exp(1j*XminusY))\n",
    "    tau = np.log(EexpXminusY) - np.log(EexpX) - np.log(EexpY)\n",
    "    return tau\n"
   ]
  },
  {
   "cell_type": "code",
   "execution_count": 257,
   "metadata": {},
   "outputs": [],
   "source": [
    "def sub_gaussian_not_sim(alpha, sigmas=[1, 1], size=[1, 1]):\n",
    "    beta = 1\n",
    "    gamma = np.cos(pi*alpha/4)**(2/alpha)\n",
    "    delta = 0\n",
    "    sigmas = 1\n",
    "    \n",
    "    sqrt_A = [[stable_random_variables(\n",
    "        alpha/2, beta, gamma, delta)**(1/2)] for _ in range(size[0])]\n",
    "    return sqrt_A * np.random.normal(0, sigmas, size)\n"
   ]
  },
  {
   "cell_type": "code",
   "execution_count": 272,
   "metadata": {},
   "outputs": [],
   "source": [
    "def sub_gaussian_not_sim(alpha, beta, gamma, delta\n",
    "                        ,sigma_matrix=[[1, 0], [0, 1]], mean_matrix = [0, 0], n = 1):\n",
    "\n",
    "    G = np.random.default_rng().multivariate_normal(mean_matrix, sigma_matrix, n)\n",
    "    \n",
    "    sqrt_A = [[stable_random_variables(\n",
    "        alpha/2, beta, gamma, delta)**(1/2)] for _ in range(n)]\n",
    "    return sqrt_A * G\n"
   ]
  },
  {
   "cell_type": "code",
   "execution_count": 274,
   "metadata": {},
   "outputs": [
    {
     "data": {
      "text/plain": [
       "array([[-1.2370652 ,  1.29937971],\n",
       "       [-0.10581673, -2.40222839],\n",
       "       [-1.45615557,  1.08747675]])"
      ]
     },
     "execution_count": 274,
     "metadata": {},
     "output_type": "execute_result"
    }
   ],
   "source": [
    "alpha = 1.1\n",
    "beta = 1\n",
    "gamma = np.cos(pi*alpha/4)**(2/alpha)\n",
    "delta = 0\n",
    "sigmas = 1\n",
    "sub_gaussian_not_sim(alpha, beta, gamma, delta\n",
    "                        ,sigma_matrix=[[1, 0], [0, 1]], mean_matrix = [0, 0], n = 3)"
   ]
  },
  {
   "cell_type": "code",
   "execution_count": 45,
   "metadata": {},
   "outputs": [],
   "source": [
    "alpha = 1.1\n",
    "beta = 1\n",
    "gamma = np.cos(pi*alpha/4)**(2/alpha)\n",
    "delta = 0\n",
    "sigmas = 1\n",
    "d = 2\n",
    "n = 5000\n",
    "\n",
    "X_5_1 = sub_gaussian_not_sim(alpha, beta, gamma, delta, sigmas, size=[n, d])\n"
   ]
  },
  {
   "cell_type": "code",
   "execution_count": 46,
   "metadata": {},
   "outputs": [
    {
     "data": {
      "image/png": "[encoded data removed]",
      "text/plain": [
       "<Figure size 640x480 with 1 Axes>"
      ]
     },
     "metadata": {},
     "output_type": "display_data"
    }
   ],
   "source": [
    "plt.scatter(X_5_1[:, 0], X_5_1[:, 1])\n",
    "plt.show()\n"
   ]
  },
  {
   "cell_type": "code",
   "execution_count": 48,
   "metadata": {},
   "outputs": [
    {
     "data": {
      "text/plain": [
       "(0.35551003479264875-0.007050127047829481j)"
      ]
     },
     "execution_count": 48,
     "metadata": {},
     "output_type": "execute_result"
    }
   ],
   "source": [
    "codiffence(X_5_1[:, 0], X_5_1[:, 1])\n"
   ]
  },
  {
   "cell_type": "code",
   "execution_count": 206,
   "metadata": {},
   "outputs": [],
   "source": [
    "mean = [0, 0]\n",
    "Sigma = [[1, 0.5],\n",
    "         [0.5, 1]]\n",
    "\n",
    "Z = np.random.default_rng().multivariate_normal(mean, Sigma, 10000)"
   ]
  },
  {
   "cell_type": "code",
   "execution_count": 205,
   "metadata": {},
   "outputs": [
    {
     "data": {
      "text/plain": [
       "array([[1.01384506, 0.49224996],\n",
       "       [0.49224996, 0.99338791]])"
      ]
     },
     "execution_count": 205,
     "metadata": {},
     "output_type": "execute_result"
    }
   ],
   "source": [
    "np.cov(Z.T)"
   ]
  },
  {
   "cell_type": "code",
   "execution_count": 216,
   "metadata": {},
   "outputs": [
    {
     "data": {
      "text/plain": [
       "(0.5262983966825403-0.013680910841946925j)"
      ]
     },
     "execution_count": 216,
     "metadata": {},
     "output_type": "execute_result"
    }
   ],
   "source": [
    "codiffence(Z[:, 0], Z[:, 1])"
   ]
  },
  {
   "cell_type": "code",
   "execution_count": 246,
   "metadata": {},
   "outputs": [],
   "source": [
    "alpha = 1.9\n",
    "arr1 = np.array([\n",
    "    [1/4, 1,  0],\n",
    "    [1/4, 0,  1],\n",
    "    [1/4, -1,  0],\n",
    "    [1/4, 0, -1],\n",
    "])\n"
   ]
  },
  {
   "cell_type": "code",
   "execution_count": 247,
   "metadata": {},
   "outputs": [],
   "source": [
    "X = np.array([multivariate_stable_distributions(alpha, arr1)\n",
    "             for _ in range(100000)])\n"
   ]
  },
  {
   "cell_type": "code",
   "execution_count": 249,
   "metadata": {},
   "outputs": [
    {
     "data": {
      "image/png": "[encoded data removed]",
      "text/plain": [
       "<Figure size 640x480 with 1 Axes>"
      ]
     },
     "metadata": {},
     "output_type": "display_data"
    }
   ],
   "source": [
    "plt.scatter(X[:, 0], X[:, 1])\n",
    "plt.show()"
   ]
  },
  {
   "cell_type": "code",
   "execution_count": 251,
   "metadata": {},
   "outputs": [
    {
     "data": {
      "text/plain": [
       "array([[ 1.34506101e+00, -3.40860005e-04],\n",
       "       [-3.40860005e-04,  1.48655113e+00]])"
      ]
     },
     "execution_count": 251,
     "metadata": {},
     "output_type": "execute_result"
    }
   ],
   "source": [
    "np.cov(X.T)"
   ]
  },
  {
   "cell_type": "code",
   "execution_count": 252,
   "metadata": {},
   "outputs": [
    {
     "data": {
      "text/plain": [
       "(-0.003994949104407286-0.0002680568997827375j)"
      ]
     },
     "execution_count": 252,
     "metadata": {},
     "output_type": "execute_result"
    }
   ],
   "source": [
    "codiffence(X[:, 0], X[:, 1])\n"
   ]
  },
  {
   "cell_type": "code",
   "execution_count": 253,
   "metadata": {},
   "outputs": [],
   "source": [
    "alpha = 1.6\n",
    "arr2 = np.array([\n",
    "    [1/4, np.sqrt(2)/2,  np.sqrt(2)/2],\n",
    "    [1/4, -np.sqrt(2)/2,  np.sqrt(2)/2],\n",
    "    [1/4, -np.sqrt(2)/2, -np.sqrt(2)/2],\n",
    "    [1/4, np.sqrt(2)/2, -np.sqrt(2)/2],\n",
    "])\n",
    "X2 = np.array([multivariate_stable_distributions(alpha, arr2)\n",
    "             for _ in range(100000)])"
   ]
  },
  {
   "cell_type": "code",
   "execution_count": 254,
   "metadata": {},
   "outputs": [
    {
     "data": {
      "image/png": "[encoded data removed]",
      "text/plain": [
       "<Figure size 640x480 with 1 Axes>"
      ]
     },
     "metadata": {},
     "output_type": "display_data"
    }
   ],
   "source": [
    "plt.scatter(X2[:, 0], X2[:, 1])\n",
    "plt.show()"
   ]
  },
  {
   "cell_type": "code",
   "execution_count": 255,
   "metadata": {},
   "outputs": [
    {
     "data": {
      "text/plain": [
       "array([[6.63758602, 0.32716555],\n",
       "       [0.32716555, 6.6113947 ]])"
      ]
     },
     "execution_count": 255,
     "metadata": {},
     "output_type": "execute_result"
    }
   ],
   "source": [
    "np.cov(X2.T)"
   ]
  },
  {
   "cell_type": "code",
   "execution_count": 256,
   "metadata": {},
   "outputs": [
    {
     "data": {
      "text/plain": [
       "(0.2706888902893456+0.00270407671925814j)"
      ]
     },
     "execution_count": 256,
     "metadata": {},
     "output_type": "execute_result"
    }
   ],
   "source": [
    "codiffence(X2[:, 0], X2[:, 1])\n"
   ]
  },
  {
   "cell_type": "code",
   "execution_count": 267,
   "metadata": {},
   "outputs": [],
   "source": [
    "X3 = sub_gaussian_not_sim(1.6, [1, 1], size = [100000,2])"
   ]
  },
  {
   "cell_type": "code",
   "execution_count": 268,
   "metadata": {},
   "outputs": [
    {
     "data": {
      "image/png": "[encoded data removed]",
      "text/plain": [
       "<Figure size 640x480 with 1 Axes>"
      ]
     },
     "metadata": {},
     "output_type": "display_data"
    }
   ],
   "source": [
    "plt.scatter(X3[:, 0], X3[:, 1])\n",
    "plt.show()"
   ]
  },
  {
   "cell_type": "code",
   "execution_count": 269,
   "metadata": {},
   "outputs": [
    {
     "data": {
      "text/plain": [
       "array([[15.22896401, -5.54669488],\n",
       "       [-5.54669488, 17.85265926]])"
      ]
     },
     "execution_count": 269,
     "metadata": {},
     "output_type": "execute_result"
    }
   ],
   "source": [
    "np.cov(X3.T)"
   ]
  },
  {
   "cell_type": "code",
   "execution_count": 270,
   "metadata": {},
   "outputs": [
    {
     "data": {
      "text/plain": [
       "(0.14840157771726148-0.004539576970215767j)"
      ]
     },
     "execution_count": 270,
     "metadata": {},
     "output_type": "execute_result"
    }
   ],
   "source": [
    "codiffence(X3[:, 0], X3[:, 1])\n"
   ]
  }
 ],
 "metadata": {
  "kernelspec": {
   "display_name": "Python 3",
   "language": "python",
   "name": "python3"
  },
  "language_info": {
   "codemirror_mode": {
    "name": "ipython",
    "version": 3
   },
   "file_extension": ".py",
   "mimetype": "text/x-python",
   "name": "python",
   "nbconvert_exporter": "python",
   "pygments_lexer": "ipython3",
   "version": "3.11.0rc1 (main, Aug 12 2022, 10:02:14) [GCC 11.2.0]"
  },
  "orig_nbformat": 4,
  "vscode": {
   "interpreter": {
    "hash": "ead1b95f633dc9c51826328e1846203f51a198c6fb5f2884a80417ba131d4e82"
   }
  }
 },
 "nbformat": 4,
 "nbformat_minor": 2
}
